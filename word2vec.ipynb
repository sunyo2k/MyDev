{
 "cells": [
  {
   "cell_type": "code",
   "execution_count": 20,
   "metadata": {},
   "outputs": [],
   "source": [
    "from gensim.models import word2vec\n",
    "import codecs\n",
    "from konlpy.tag import Twitter\n",
    "\n",
    "# basic corpus\n",
    "twitter = Twitter()\n",
    "file = open(\"/sample/data/toti1u.txt\", 'r')\n",
    "txt = file.read()\n",
    "lines = txt.split(\"\\n\")\n",
    "#cnt = 0\n",
    "results = []\n",
    "for line in lines:\n",
    "    #print(line)\n",
    "    r = []\n",
    "    malist = twitter.pos(line, norm=True, stem=True)\n",
    "    for (word, pumsa) in malist:\n",
    "        if not pumsa in [\"Josa\", \"Eomi\", \"Punctuation\"]:\n",
    "            r.append(word)\n",
    "    results.append((\" \".join(r)).strip())   \n",
    "#    if cnt > 10:\n",
    "#        break\n",
    "#    cnt += 1\n",
    "output = (\" \".join(results)).strip()\n",
    "\n",
    "with open(\"toji.wakati\", \"w\", encoding=\"utf-8\") as fp:\n",
    "    fp.write(output)"
   ]
  },
  {
   "cell_type": "code",
   "execution_count": 23,
   "metadata": {},
   "outputs": [],
   "source": [
    "# model\n",
    "data = word2vec.LineSentence(\"toji.wakati\")\n",
    "model = word2vec.Word2Vec(data, size=200, window=10, hs=1, min_count=2, sg=1)\n",
    "model.save(\"toji.model\")"
   ]
  },
  {
   "cell_type": "code",
   "execution_count": 26,
   "metadata": {},
   "outputs": [
    {
     "data": {
      "text/plain": [
       "[('나랏님', 0.8251856565475464),\n",
       " ('내야', 0.7827345132827759),\n",
       " ('사시', 0.7617843151092529),\n",
       " ('잘', 0.7615058422088623),\n",
       " ('모', 0.7594138383865356),\n",
       " ('대원군', 0.7572777271270752),\n",
       " ('삶다', 0.7564120292663574),\n",
       " ('파고', 0.7546290159225464),\n",
       " ('고하', 0.7544491291046143),\n",
       " ('조선', 0.7516851425170898)]"
      ]
     },
     "execution_count": 26,
     "metadata": {},
     "output_type": "execute_result"
    }
   ],
   "source": [
    "# use\n",
    "model = word2vec.Word2Vec.load(\"toji.model\")\n",
    "model.wv.most_similar(positive=[\"땅\"])"
   ]
  },
  {
   "cell_type": "code",
   "execution_count": null,
   "metadata": {},
   "outputs": [],
   "source": []
  }
 ],
 "metadata": {
  "kernelspec": {
   "display_name": "Python 3",
   "language": "python",
   "name": "python3"
  },
  "language_info": {
   "codemirror_mode": {
    "name": "ipython",
    "version": 3
   },
   "file_extension": ".py",
   "mimetype": "text/x-python",
   "name": "python",
   "nbconvert_exporter": "python",
   "pygments_lexer": "ipython3",
   "version": "3.5.5"
  }
 },
 "nbformat": 4,
 "nbformat_minor": 2
}
